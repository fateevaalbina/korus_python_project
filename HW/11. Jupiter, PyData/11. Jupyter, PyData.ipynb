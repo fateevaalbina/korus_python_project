{
 "cells": [
  {
   "cell_type": "markdown",
   "id": "f03b6023",
   "metadata": {},
   "source": [
    "# Jupiter Notebook"
   ]
  },
  {
   "cell_type": "markdown",
   "id": "5c271154",
   "metadata": {},
   "source": [
    "## Install Jupiter Notebook\n",
    "\n",
    "```\n",
    "pip install jupyter```"
   ]
  },
  {
   "cell_type": "markdown",
   "id": "a4cee0d8",
   "metadata": {},
   "source": [
    "## Starting the notebook server\n",
    "```\n",
    "jupyter notebook```"
   ]
  },
  {
   "cell_type": "markdown",
   "id": "e46be6f0",
   "metadata": {},
   "source": [
    "## Using Jupiter Notebook\n",
    "### Cписок используемых магических методов\n",
    "```\n",
    "%lsmagic```"
   ]
  },
  {
   "cell_type": "code",
   "execution_count": null,
   "id": "dbe4f8c6",
   "metadata": {
    "scrolled": true
   },
   "outputs": [],
   "source": [
    "%lsmagic"
   ]
  },
  {
   "cell_type": "markdown",
   "id": "a4d6d8f4",
   "metadata": {},
   "source": [
    "### Справка по магическим функциям\n",
    "Добавьте знак ? после команды"
   ]
  },
  {
   "cell_type": "code",
   "execution_count": null,
   "id": "9c7aa507",
   "metadata": {},
   "outputs": [],
   "source": [
    "%who?"
   ]
  },
  {
   "cell_type": "markdown",
   "id": "5a77c6f2",
   "metadata": {},
   "source": [
    "### Переменные среды\n",
    "Можно управлять переменными среды для вашего блокнота без перезапуска Jupyter-сервера. Некоторые\n",
    "библиотеки (такие, как theano) используют переменные среды, чтобы контролировать поведение, и %env\n",
    "— самый удобный способ.\n",
    "```\n",
    "%env```"
   ]
  },
  {
   "cell_type": "code",
   "execution_count": null,
   "id": "cb1118a9",
   "metadata": {},
   "outputs": [],
   "source": [
    "#%env - without arguments lists environmental variables\n",
    "%env OMP_NUM_THREADS=4"
   ]
  },
  {
   "cell_type": "markdown",
   "id": "f169b390",
   "metadata": {},
   "source": [
    "### Выполнение shell-команд\n",
    "Используйте символ ! перед shell-командами\n",
    "```\n",
    "!pip install numpy```"
   ]
  },
  {
   "cell_type": "code",
   "execution_count": null,
   "id": "b6c0a144",
   "metadata": {},
   "outputs": [],
   "source": [
    "!pip list"
   ]
  },
  {
   "cell_type": "code",
   "execution_count": null,
   "id": "db0a2914",
   "metadata": {},
   "outputs": [],
   "source": [
    "!java -version"
   ]
  },
  {
   "cell_type": "markdown",
   "id": "32cedb29",
   "metadata": {},
   "source": [
    "###  Выполнение кода Python\n",
    "%run  - выполняет код на Python. %run может выполнить код на языке Python из файлов\n",
    "с расширением .py.\n",
    "Но эта команда может выполнять и другие блокноты из Jupyter! Иногда это очень полезно.\n",
    "Обратите внимание, что %run — это не то же, что импорт python-модуля."
   ]
  },
  {
   "cell_type": "code",
   "execution_count": null,
   "id": "b7d4ecda",
   "metadata": {},
   "outputs": [],
   "source": [
    "%run"
   ]
  },
  {
   "cell_type": "markdown",
   "id": "c2a3d64c",
   "metadata": {},
   "source": [
    "### Загрузка кода в ячейку"
   ]
  },
  {
   "cell_type": "code",
   "execution_count": null,
   "id": "a1d82cb6",
   "metadata": {},
   "outputs": [],
   "source": [
    "%load ipython_log.py"
   ]
  },
  {
   "cell_type": "markdown",
   "id": "062777e6",
   "metadata": {},
   "source": [
    "### Тайминг"
   ]
  },
  {
   "cell_type": "code",
   "execution_count": null,
   "id": "ddce4d5f",
   "metadata": {},
   "outputs": [],
   "source": [
    "%%time\n",
    "import time\n",
    "time.sleep(2)"
   ]
  },
  {
   "cell_type": "code",
   "execution_count": null,
   "id": "d23b51e2",
   "metadata": {},
   "outputs": [],
   "source": [
    "%%timeit\n",
    "import time\n",
    "time.sleep(2)"
   ]
  },
  {
   "cell_type": "markdown",
   "id": "984954c9",
   "metadata": {},
   "source": [
    "### Запись ячейки в файл"
   ]
  },
  {
   "cell_type": "code",
   "execution_count": null,
   "id": "1d42c057",
   "metadata": {},
   "outputs": [],
   "source": [
    "%%writefile pythoncode.py\n",
    "import numpy\n",
    "def append_if_not_exists(arr, x):\n",
    "    if x not in arr:\n",
    "        arr.append(x)\n",
    "        \n",
    "def some_useless_slow_function():\n",
    "    arr = list()\n",
    "    for i in range(10000):\n",
    "        x = numpy.random.randint(0, 10000)\n",
    "        append_if_not_exists(arr, x)"
   ]
  },
  {
   "cell_type": "code",
   "execution_count": null,
   "id": "a3e34b14",
   "metadata": {},
   "outputs": [],
   "source": [
    "!pip install pandas"
   ]
  },
  {
   "cell_type": "markdown",
   "id": "59a60a41",
   "metadata": {},
   "source": [
    "***\n",
    "# Using Pandas"
   ]
  },
  {
   "cell_type": "markdown",
   "id": "a7c83325",
   "metadata": {},
   "source": [
    "### Importing pandas"
   ]
  },
  {
   "cell_type": "code",
   "execution_count": null,
   "id": "28872b44",
   "metadata": {},
   "outputs": [],
   "source": [
    "import pandas"
   ]
  },
  {
   "cell_type": "code",
   "execution_count": null,
   "id": "ddfd619d",
   "metadata": {},
   "outputs": [],
   "source": [
    "pandas.__version__"
   ]
  },
  {
   "cell_type": "code",
   "execution_count": null,
   "id": "5a6b9eea",
   "metadata": {},
   "outputs": [],
   "source": [
    "import pandas as pd"
   ]
  },
  {
   "cell_type": "code",
   "execution_count": null,
   "id": "b2d6c4ff",
   "metadata": {},
   "outputs": [],
   "source": [
    "pd.__version__"
   ]
  },
  {
   "cell_type": "markdown",
   "id": "33656277",
   "metadata": {},
   "source": [
    "### Pandas documentation"
   ]
  },
  {
   "cell_type": "code",
   "execution_count": null,
   "id": "e2ca1c57",
   "metadata": {},
   "outputs": [],
   "source": [
    "pd.show_versions()"
   ]
  },
  {
   "cell_type": "code",
   "execution_count": null,
   "id": "70fd3866",
   "metadata": {},
   "outputs": [],
   "source": [
    "# показать доки\n",
    "pd.show_versions?"
   ]
  },
  {
   "cell_type": "code",
   "execution_count": null,
   "id": "13e41309",
   "metadata": {},
   "outputs": [],
   "source": [
    "pd.read_csv?"
   ]
  },
  {
   "cell_type": "markdown",
   "id": "2860c6cf",
   "metadata": {},
   "source": [
    "### Pandas vs SQL\n",
    "[Comparison with SQL](https://pandas.pydata.org/docs/getting_started/comparison/comparison_with_sql.html)\n",
    "***"
   ]
  },
  {
   "cell_type": "markdown",
   "id": "dbd82366",
   "metadata": {},
   "source": [
    "### Series and DataFrames"
   ]
  },
  {
   "cell_type": "code",
   "execution_count": null,
   "id": "5ae220df",
   "metadata": {},
   "outputs": [],
   "source": [
    "oo = pd.read_csv('olympics.csv', skiprows=4)\n",
    "oo.head(10)"
   ]
  },
  {
   "cell_type": "markdown",
   "id": "dc201fd7",
   "metadata": {},
   "source": [
    "### Доступ к DataFrame"
   ]
  },
  {
   "cell_type": "code",
   "execution_count": null,
   "id": "d41d134f",
   "metadata": {},
   "outputs": [],
   "source": [
    "oo"
   ]
  },
  {
   "cell_type": "markdown",
   "id": "77fe1da3",
   "metadata": {},
   "source": [
    "### Доступ к Series"
   ]
  },
  {
   "cell_type": "code",
   "execution_count": null,
   "id": "0ce81167",
   "metadata": {},
   "outputs": [],
   "source": [
    "oo['Athlete']"
   ]
  },
  {
   "cell_type": "code",
   "execution_count": null,
   "id": "ec40b614",
   "metadata": {},
   "outputs": [],
   "source": [
    "oo[['City','Edition','Athlete']]"
   ]
  },
  {
   "cell_type": "code",
   "execution_count": null,
   "id": "7b3312db",
   "metadata": {},
   "outputs": [],
   "source": [
    "type(oo)"
   ]
  },
  {
   "cell_type": "code",
   "execution_count": null,
   "id": "40d09bb4",
   "metadata": {},
   "outputs": [],
   "source": [
    "type(oo.City)"
   ]
  },
  {
   "cell_type": "code",
   "execution_count": null,
   "id": "47e6ac78",
   "metadata": {},
   "outputs": [],
   "source": [
    "type(oo[['City','Edition','Athlete']])"
   ]
  },
  {
   "cell_type": "markdown",
   "id": "64815e47",
   "metadata": {},
   "source": [
    "### Предпросмотр и валидация данных\n",
    "#### Shape"
   ]
  },
  {
   "cell_type": "code",
   "execution_count": null,
   "id": "e126c60a",
   "metadata": {},
   "outputs": [],
   "source": [
    "oo.shape"
   ]
  },
  {
   "cell_type": "markdown",
   "id": "d29a7ffc",
   "metadata": {},
   "source": [
    "#### head() and tail()"
   ]
  },
  {
   "cell_type": "code",
   "execution_count": null,
   "id": "da2c5287",
   "metadata": {},
   "outputs": [],
   "source": [
    "oo.head(3)"
   ]
  },
  {
   "cell_type": "code",
   "execution_count": null,
   "id": "348791b5",
   "metadata": {
    "scrolled": true
   },
   "outputs": [],
   "source": [
    "oo.tail()"
   ]
  },
  {
   "cell_type": "code",
   "execution_count": null,
   "id": "7c63ac84",
   "metadata": {},
   "outputs": [],
   "source": [
    "oo.info()"
   ]
  },
  {
   "cell_type": "markdown",
   "id": "25dd3582",
   "metadata": {},
   "source": [
    "### Базовый анализ\n",
    "#### value_counts()"
   ]
  },
  {
   "cell_type": "code",
   "execution_count": null,
   "id": "acd4f991",
   "metadata": {},
   "outputs": [],
   "source": [
    "oo.Edition.value_counts()"
   ]
  },
  {
   "cell_type": "code",
   "execution_count": null,
   "id": "ef3298cc",
   "metadata": {},
   "outputs": [],
   "source": [
    "oo.Gender.value_counts(ascending=True,dropna=False)"
   ]
  },
  {
   "cell_type": "markdown",
   "id": "e2d54c58",
   "metadata": {},
   "source": [
    "#### sort_values()"
   ]
  },
  {
   "cell_type": "code",
   "execution_count": null,
   "id": "f82de540",
   "metadata": {},
   "outputs": [],
   "source": [
    "ath = oo.Athlete.sort_values()\n",
    "ath"
   ]
  },
  {
   "cell_type": "code",
   "execution_count": null,
   "id": "3bb85b48",
   "metadata": {},
   "outputs": [],
   "source": [
    "oo.sort_values(by=['Edition','Athlete'])"
   ]
  },
  {
   "cell_type": "markdown",
   "id": "93d00af0",
   "metadata": {},
   "source": [
    "#### Boolean indexing"
   ]
  },
  {
   "cell_type": "code",
   "execution_count": null,
   "id": "5dc597dd",
   "metadata": {
    "scrolled": true
   },
   "outputs": [],
   "source": [
    "oo[(oo.Medal == 'Gold') & (oo.Gender == 'Women')]"
   ]
  },
  {
   "cell_type": "markdown",
   "id": "769753ee",
   "metadata": {},
   "source": [
    "#### String handling"
   ]
  },
  {
   "cell_type": "code",
   "execution_count": null,
   "id": "5953c60b",
   "metadata": {},
   "outputs": [],
   "source": [
    "oo[oo.Athlete.str.contains('Florence')]"
   ]
  },
  {
   "cell_type": "markdown",
   "id": "f2b9df3e",
   "metadata": {},
   "source": [
    "***\n",
    "### Basic plotting\n",
    "\n",
    "https://matplotlib.org/stable/contents.html"
   ]
  },
  {
   "cell_type": "code",
   "execution_count": null,
   "id": "2c6c7967",
   "metadata": {},
   "outputs": [],
   "source": [
    "import matplotlib.pyplot as plt"
   ]
  },
  {
   "cell_type": "code",
   "execution_count": null,
   "id": "8c0813c7",
   "metadata": {},
   "outputs": [],
   "source": [
    "%matplotlib inline"
   ]
  },
  {
   "cell_type": "code",
   "execution_count": null,
   "id": "15c0800c",
   "metadata": {},
   "outputs": [],
   "source": [
    "fo = oo[oo.Edition == 1896]\n",
    "fo.head()"
   ]
  },
  {
   "cell_type": "markdown",
   "id": "1852481b",
   "metadata": {},
   "source": [
    "#### Line plot"
   ]
  },
  {
   "cell_type": "code",
   "execution_count": null,
   "id": "59d73ac6",
   "metadata": {
    "scrolled": true
   },
   "outputs": [],
   "source": [
    "fo.Sport.value_counts().plot(kind='line');"
   ]
  },
  {
   "cell_type": "markdown",
   "id": "7a30a4f8",
   "metadata": {},
   "source": [
    "#### Bar plot"
   ]
  },
  {
   "cell_type": "code",
   "execution_count": null,
   "id": "510c73ac",
   "metadata": {},
   "outputs": [],
   "source": [
    "fo.Sport.value_counts().plot(kind='bar');"
   ]
  },
  {
   "cell_type": "markdown",
   "id": "3725b4fc",
   "metadata": {},
   "source": [
    "#### Horizontal bar plot"
   ]
  },
  {
   "cell_type": "code",
   "execution_count": null,
   "id": "2257586e",
   "metadata": {},
   "outputs": [],
   "source": [
    "fo.Sport.value_counts().plot(kind='barh');"
   ]
  },
  {
   "cell_type": "markdown",
   "id": "4aa6b2cc",
   "metadata": {},
   "source": [
    "#### Pie chart"
   ]
  },
  {
   "cell_type": "code",
   "execution_count": null,
   "id": "df6e5ac4",
   "metadata": {},
   "outputs": [],
   "source": [
    "fo.Sport.value_counts().plot(kind='pie');"
   ]
  },
  {
   "cell_type": "markdown",
   "id": "042b0dc9",
   "metadata": {},
   "source": [
    "#### figsize()"
   ]
  },
  {
   "cell_type": "code",
   "execution_count": null,
   "id": "a754d16f",
   "metadata": {},
   "outputs": [],
   "source": [
    "fo.Sport.value_counts().plot(figsize=(10,3));"
   ]
  },
  {
   "cell_type": "markdown",
   "id": "c3655216",
   "metadata": {},
   "source": [
    "### Seaborn basic plotting\n",
    "Как много медалей было выйграно мужчинами и женщинами в истории\n",
    "олимпиады. Как много золотых, серебрянных и бронзовых медалей было\n",
    "выйграно каждым полом?"
   ]
  },
  {
   "cell_type": "code",
   "execution_count": null,
   "id": "c25207d8",
   "metadata": {},
   "outputs": [],
   "source": [
    "import seaborn as sns"
   ]
  },
  {
   "cell_type": "code",
   "execution_count": null,
   "id": "5c9d7008",
   "metadata": {},
   "outputs": [],
   "source": [
    "sns.countplot(x='Medal',data=oo, hue='Gender');"
   ]
  },
  {
   "cell_type": "markdown",
   "id": "f4999b1f",
   "metadata": {},
   "source": [
    "### Groupby"
   ]
  },
  {
   "cell_type": "code",
   "execution_count": null,
   "id": "be5c8edb",
   "metadata": {},
   "outputs": [],
   "source": [
    "oo.groupby('Edition')"
   ]
  },
  {
   "cell_type": "code",
   "execution_count": null,
   "id": "ab95840a",
   "metadata": {},
   "outputs": [],
   "source": [
    "type(oo.groupby('Edition'))"
   ]
  },
  {
   "cell_type": "code",
   "execution_count": null,
   "id": "2dfa2fa4",
   "metadata": {},
   "outputs": [],
   "source": [
    "list(oo.groupby('Edition'))"
   ]
  },
  {
   "cell_type": "markdown",
   "id": "8882f395",
   "metadata": {},
   "source": [
    "### Итерирование по группам"
   ]
  },
  {
   "cell_type": "code",
   "execution_count": null,
   "id": "79f706fc",
   "metadata": {},
   "outputs": [],
   "source": [
    "for group_key, group_value in oo.groupby('Edition'):\n",
    "    print(group_key)\n",
    "    print(group_value)    "
   ]
  },
  {
   "cell_type": "markdown",
   "id": "f0a11156",
   "metadata": {},
   "source": [
    "### Groupby computations"
   ]
  },
  {
   "cell_type": "code",
   "execution_count": null,
   "id": "d16f843a",
   "metadata": {},
   "outputs": [],
   "source": [
    "oo.groupby('Edition').size()"
   ]
  },
  {
   "cell_type": "markdown",
   "id": "32fb78c1",
   "metadata": {},
   "source": [
    "### agg([...])"
   ]
  },
  {
   "cell_type": "code",
   "execution_count": null,
   "id": "731622b8",
   "metadata": {
    "scrolled": false
   },
   "outputs": [],
   "source": [
    "oo.groupby(['Edition','NOC','Medal']).agg(['min','max','count'])"
   ]
  },
  {
   "cell_type": "code",
   "execution_count": null,
   "id": "08b44261",
   "metadata": {},
   "outputs": [],
   "source": [
    "oo.groupby(['Edition','NOC','Medal']).size()"
   ]
  },
  {
   "cell_type": "markdown",
   "id": "de5f5b5f",
   "metadata": {},
   "source": [
    "### agg({ : [ ... ]})"
   ]
  },
  {
   "cell_type": "code",
   "execution_count": null,
   "id": "70d77b11",
   "metadata": {},
   "outputs": [],
   "source": [
    "oo.groupby(['Edition','NOC','Medal']).agg({'Edition' :['min','max','count']})"
   ]
  },
  {
   "cell_type": "code",
   "execution_count": null,
   "id": "f4f0faaa",
   "metadata": {},
   "outputs": [],
   "source": [
    "oo.loc[oo.Athlete == 'LEWIS, Carl'].groupby('Athlete').agg({'Edition': ['min','max','count']})"
   ]
  },
  {
   "cell_type": "markdown",
   "id": "32782585",
   "metadata": {},
   "source": [
    "***\n",
    "### stack() and unstack()\n",
    "Атлеты выйгравшие медали в Beijing на дистанции 100m или\n",
    "200m"
   ]
  },
  {
   "cell_type": "code",
   "execution_count": null,
   "id": "b5752952",
   "metadata": {},
   "outputs": [],
   "source": [
    "mw = oo[(oo.Edition == 2008) & ( (oo.Event == '100m') | (oo.Event == '200m'))]\n",
    "mw"
   ]
  },
  {
   "cell_type": "code",
   "execution_count": null,
   "id": "6d1cd2e9",
   "metadata": {},
   "outputs": [],
   "source": [
    "g = mw.groupby(['NOC','Gender','Discipline','Event']).size()\n",
    "g"
   ]
  },
  {
   "cell_type": "code",
   "execution_count": null,
   "id": "625213c1",
   "metadata": {},
   "outputs": [],
   "source": [
    "df = g.unstack(['Discipline','Event'])\n",
    "df"
   ]
  },
  {
   "cell_type": "code",
   "execution_count": null,
   "id": "446fb74d",
   "metadata": {},
   "outputs": [],
   "source": [
    "df = g.unstack(['Event'])\n",
    "df"
   ]
  },
  {
   "cell_type": "markdown",
   "id": "6f578539",
   "metadata": {},
   "source": [
    "#### stack()"
   ]
  },
  {
   "cell_type": "code",
   "execution_count": null,
   "id": "2e948162",
   "metadata": {},
   "outputs": [],
   "source": [
    "df"
   ]
  },
  {
   "cell_type": "code",
   "execution_count": null,
   "id": "183030c1",
   "metadata": {
    "scrolled": true
   },
   "outputs": [],
   "source": [
    "df.stack()"
   ]
  },
  {
   "cell_type": "code",
   "execution_count": null,
   "id": "02c3c40b",
   "metadata": {},
   "outputs": [],
   "source": []
  },
  {
   "cell_type": "markdown",
   "id": "cf527196",
   "metadata": {},
   "source": [
    "#### unstack()"
   ]
  },
  {
   "cell_type": "code",
   "execution_count": null,
   "id": "9dcc54ee",
   "metadata": {},
   "outputs": [],
   "source": [
    "df"
   ]
  },
  {
   "cell_type": "code",
   "execution_count": null,
   "id": "e4031af0",
   "metadata": {},
   "outputs": [],
   "source": [
    "df.unstack()"
   ]
  },
  {
   "cell_type": "code",
   "execution_count": null,
   "id": "ebdfffd6",
   "metadata": {},
   "outputs": [],
   "source": [
    "df.unstack('Gender')"
   ]
  },
  {
   "cell_type": "markdown",
   "id": "b90c3fab",
   "metadata": {},
   "source": [
    "## Data visualizations\n",
    "### Seaborn с heatmaps\n",
    "Cуммарное количество медалей выйгранных странами в\n",
    "последних олимпийских играх."
   ]
  },
  {
   "cell_type": "code",
   "execution_count": null,
   "id": "6768a950",
   "metadata": {},
   "outputs": [],
   "source": [
    "lo = oo[oo.Edition == 2008]\n",
    "lo"
   ]
  },
  {
   "cell_type": "code",
   "execution_count": null,
   "id": "ad51117e",
   "metadata": {},
   "outputs": [],
   "source": [
    "g = lo.groupby(['NOC','Medal']).size().unstack('Medal',fill_value=0)\n",
    "g = g.sort_values(['Gold','Silver','Bronze'],ascending=False)[['Gold'\n",
    ",'Silver','Bronze']]\n",
    "g"
   ]
  },
  {
   "cell_type": "code",
   "execution_count": null,
   "id": "12d69b6c",
   "metadata": {},
   "outputs": [],
   "source": [
    "sns.heatmap(g)"
   ]
  },
  {
   "cell_type": "markdown",
   "id": "2ad36ec1",
   "metadata": {},
   "source": [
    "***\n",
    "# Numpy"
   ]
  },
  {
   "cell_type": "code",
   "execution_count": null,
   "id": "2e99cbfe",
   "metadata": {},
   "outputs": [],
   "source": [
    "import numpy as np"
   ]
  },
  {
   "cell_type": "markdown",
   "id": "3ced215a",
   "metadata": {},
   "source": [
    "### Arrays"
   ]
  },
  {
   "cell_type": "code",
   "execution_count": null,
   "id": "5c794d09",
   "metadata": {},
   "outputs": [],
   "source": [
    "a = np.array([1, 4, 5, 8], float)"
   ]
  },
  {
   "cell_type": "code",
   "execution_count": null,
   "id": "73e5f538",
   "metadata": {},
   "outputs": [],
   "source": [
    "type(a)"
   ]
  },
  {
   "cell_type": "code",
   "execution_count": null,
   "id": "ddae921b",
   "metadata": {},
   "outputs": [],
   "source": [
    "a[:2]"
   ]
  },
  {
   "cell_type": "code",
   "execution_count": null,
   "id": "a435bcfd",
   "metadata": {},
   "outputs": [],
   "source": [
    "a[3]"
   ]
  },
  {
   "cell_type": "code",
   "execution_count": null,
   "id": "23b0b9a5",
   "metadata": {},
   "outputs": [],
   "source": [
    "a = np.array([[1, 2, 3], [4, 5, 6]], float)"
   ]
  },
  {
   "cell_type": "code",
   "execution_count": null,
   "id": "cdfceb1e",
   "metadata": {},
   "outputs": [],
   "source": [
    "a"
   ]
  },
  {
   "cell_type": "code",
   "execution_count": null,
   "id": "b53df775",
   "metadata": {},
   "outputs": [],
   "source": [
    "a[0,0]"
   ]
  },
  {
   "cell_type": "code",
   "execution_count": null,
   "id": "5731e7cf",
   "metadata": {},
   "outputs": [],
   "source": [
    "a = np.array([[1, 2, 3], [4, 5, 6]], float)\n",
    "a[1,:]"
   ]
  },
  {
   "cell_type": "code",
   "execution_count": null,
   "id": "ba2d7b69",
   "metadata": {},
   "outputs": [],
   "source": [
    "a[:,2]"
   ]
  },
  {
   "cell_type": "code",
   "execution_count": null,
   "id": "1e71630b",
   "metadata": {},
   "outputs": [],
   "source": [
    "a.shape"
   ]
  },
  {
   "cell_type": "code",
   "execution_count": null,
   "id": "471f590d",
   "metadata": {},
   "outputs": [],
   "source": [
    "a = np.array(range(6), float).reshape((2, 3))"
   ]
  },
  {
   "cell_type": "code",
   "execution_count": null,
   "id": "3020c3fa",
   "metadata": {},
   "outputs": [],
   "source": [
    "a"
   ]
  },
  {
   "cell_type": "code",
   "execution_count": null,
   "id": "32236893",
   "metadata": {},
   "outputs": [],
   "source": [
    "a.transpose()"
   ]
  },
  {
   "cell_type": "code",
   "execution_count": null,
   "id": "053929e7",
   "metadata": {},
   "outputs": [],
   "source": [
    "a = np.array([1,2], float)\n",
    "b = np.array([3,4,5,6], float)\n",
    "c = np.array([7,8,9], float)\n",
    "np.concatenate((a, b, c))"
   ]
  },
  {
   "cell_type": "markdown",
   "id": "30288bda",
   "metadata": {},
   "source": [
    "#### Other ways to create arrays"
   ]
  },
  {
   "cell_type": "code",
   "execution_count": null,
   "id": "4119bb8d",
   "metadata": {},
   "outputs": [],
   "source": [
    "np.arange(5, dtype=float)"
   ]
  },
  {
   "cell_type": "code",
   "execution_count": null,
   "id": "21257e4d",
   "metadata": {},
   "outputs": [],
   "source": [
    "np.ones((2,3), dtype=float)"
   ]
  },
  {
   "cell_type": "code",
   "execution_count": null,
   "id": "3c8576d5",
   "metadata": {},
   "outputs": [],
   "source": [
    "np.zeros(7, dtype=int)"
   ]
  },
  {
   "cell_type": "markdown",
   "id": "5c38a754",
   "metadata": {},
   "source": [
    "#### Array mathematics"
   ]
  },
  {
   "cell_type": "code",
   "execution_count": null,
   "id": "2fe6147a",
   "metadata": {},
   "outputs": [],
   "source": [
    "a = np.array([1,2,3], float)\n",
    "b = np.array([5,2,6], float)\n",
    "a + b"
   ]
  },
  {
   "cell_type": "code",
   "execution_count": null,
   "id": "afa72ceb",
   "metadata": {},
   "outputs": [],
   "source": [
    "a - b"
   ]
  },
  {
   "cell_type": "code",
   "execution_count": null,
   "id": "9ea28068",
   "metadata": {},
   "outputs": [],
   "source": [
    "a * b"
   ]
  },
  {
   "cell_type": "code",
   "execution_count": null,
   "id": "2a95be2f",
   "metadata": {},
   "outputs": [],
   "source": [
    "b / a"
   ]
  },
  {
   "cell_type": "code",
   "execution_count": null,
   "id": "f44344f7",
   "metadata": {},
   "outputs": [],
   "source": [
    "a % b"
   ]
  },
  {
   "cell_type": "code",
   "execution_count": null,
   "id": "12257175",
   "metadata": {},
   "outputs": [],
   "source": [
    "b**a"
   ]
  },
  {
   "cell_type": "code",
   "execution_count": null,
   "id": "05ba08da",
   "metadata": {},
   "outputs": [],
   "source": [
    "a = np.array([1,2,3], float)\n",
    "b = np.array([4,5], float)\n",
    "a + b"
   ]
  },
  {
   "cell_type": "markdown",
   "id": "4f918daf",
   "metadata": {},
   "source": [
    "#### Basic array operations"
   ]
  },
  {
   "cell_type": "code",
   "execution_count": null,
   "id": "d8152183",
   "metadata": {},
   "outputs": [],
   "source": [
    "a = np.array([2, 4, 3], float)\n",
    "a.sum()"
   ]
  },
  {
   "cell_type": "code",
   "execution_count": null,
   "id": "192a9f5d",
   "metadata": {},
   "outputs": [],
   "source": [
    "a.mean()"
   ]
  },
  {
   "cell_type": "code",
   "execution_count": null,
   "id": "18856d70",
   "metadata": {},
   "outputs": [],
   "source": [
    "a.std()"
   ]
  },
  {
   "cell_type": "code",
   "execution_count": null,
   "id": "38aa40a5",
   "metadata": {},
   "outputs": [],
   "source": [
    "a.min()"
   ]
  },
  {
   "cell_type": "code",
   "execution_count": null,
   "id": "f60b5281",
   "metadata": {},
   "outputs": [],
   "source": [
    "a.max()"
   ]
  },
  {
   "cell_type": "markdown",
   "id": "d4b7f54a",
   "metadata": {},
   "source": [
    "#### Array item selection and manipulation"
   ]
  },
  {
   "cell_type": "code",
   "execution_count": null,
   "id": "bde03505",
   "metadata": {},
   "outputs": [],
   "source": [
    "a = np.array([[6, 4], [5, 9]], float)"
   ]
  },
  {
   "cell_type": "code",
   "execution_count": null,
   "id": "716f6a97",
   "metadata": {},
   "outputs": [],
   "source": [
    "a[a >= 6]"
   ]
  },
  {
   "cell_type": "code",
   "execution_count": null,
   "id": "a685d1da",
   "metadata": {},
   "outputs": [],
   "source": [
    "a = np.array([2, 4, 6, 8], float)\n",
    "b = np.array([0, 0, 1, 3, 2, 1], int)\n",
    "a.take(b)"
   ]
  },
  {
   "cell_type": "code",
   "execution_count": null,
   "id": "95f56b05",
   "metadata": {},
   "outputs": [],
   "source": []
  }
 ],
 "metadata": {
  "kernelspec": {
   "display_name": "Python 3",
   "language": "python",
   "name": "python3"
  },
  "language_info": {
   "codemirror_mode": {
    "name": "ipython",
    "version": 3
   },
   "file_extension": ".py",
   "mimetype": "text/x-python",
   "name": "python",
   "nbconvert_exporter": "python",
   "pygments_lexer": "ipython3",
   "version": "3.7.9"
  }
 },
 "nbformat": 4,
 "nbformat_minor": 5
}
